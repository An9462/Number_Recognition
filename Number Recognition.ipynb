{
 "cells": [
  {
   "cell_type": "markdown",
   "id": "c788728a",
   "metadata": {},
   "source": [
    "## Number Recognition"
   ]
  },
  {
   "cell_type": "code",
   "execution_count": 5,
   "id": "80926478",
   "metadata": {},
   "outputs": [],
   "source": [
    "import numpy as np\n",
    "import pandas as pd\n",
    "from matplotlib import pyplot as plt\n",
    "\n",
    "data = pd.read_csv('train1.csv')"
   ]
  },
  {
   "cell_type": "code",
   "execution_count": 6,
   "id": "4e956594",
   "metadata": {},
   "outputs": [],
   "source": [
    "data = np.array(data)\n",
    "m, n = data.shape\n",
    "np.random.shuffle(data) # shuffle before splitting into dev and training sets\n",
    "\n",
    "data_dev = data[0:1000].T\n",
    "Y_dev = data_dev[0]\n",
    "X_dev = data_dev[1:n]\n",
    "X_dev = X_dev / 255.\n",
    "\n",
    "data_train = data[1000:m].T\n",
    "Y_train = data_train[0]\n",
    "X_train = data_train[1:n]\n",
    "X_train = X_train / 255.\n",
    "_,m_train = X_train.shape"
   ]
  },
  {
   "cell_type": "code",
   "execution_count": 7,
   "id": "1e49637c",
   "metadata": {},
   "outputs": [
    {
     "data": {
      "text/plain": [
       "array([4, 0, 8, ..., 7, 7, 3], dtype=int64)"
      ]
     },
     "execution_count": 7,
     "metadata": {},
     "output_type": "execute_result"
    }
   ],
   "source": [
    "Y_train"
   ]
  },
  {
   "cell_type": "code",
   "execution_count": 8,
   "id": "2e89cd7e",
   "metadata": {},
   "outputs": [],
   "source": [
    "def init_params():\n",
    "    W1 = np.random.rand(10, 784) - 0.5\n",
    "    b1 = np.random.rand(10, 1) - 0.5\n",
    "    W2 = np.random.rand(10, 10) - 0.5\n",
    "    b2 = np.random.rand(10, 1) - 0.5\n",
    "    return W1, b1, W2, b2\n",
    "\n",
    "def ReLU(Z):\n",
    "    return np.maximum(Z, 0)\n",
    "\n",
    "def softmax(Z):\n",
    "    A = np.exp(Z) / sum(np.exp(Z))\n",
    "    return A\n",
    "\n",
    "def forward_prop(W1, b1, W2, b2, X):\n",
    "    Z1 = W1.dot(X) + b1\n",
    "    A1 = ReLU(Z1)\n",
    "    Z2 = W2.dot(A1) + b2\n",
    "    A2 = softmax(Z2)\n",
    "    return Z1, A1, Z2, A2\n",
    "\n",
    "def ReLU_deriv(Z):\n",
    "    return Z > 0\n",
    "\n",
    "def one_hot(Y):\n",
    "    one_hot_Y = np.zeros((Y.size, Y.max() + 1))\n",
    "    one_hot_Y[np.arange(Y.size), Y] = 1\n",
    "    one_hot_Y = one_hot_Y.T\n",
    "    return one_hot_Y\n",
    "def backward_prop(Z1, A1, Z2, A2, W1, W2, X, Y):\n",
    "    one_hot_Y = one_hot(Y)\n",
    "    dZ2 = A2 - one_hot_Y\n",
    "    dW2 = 1 / m * dZ2.dot(A1.T)\n",
    "    db2 = 1 / m * np.sum(dZ2)\n",
    "    dZ1 = W2.T.dot(dZ2) * ReLU_deriv(Z1)\n",
    "    dW1 = 1 / m * dZ1.dot(X.T)\n",
    "    db1 = 1 / m * np.sum(dZ1)\n",
    "    return dW1, db1, dW2, db2\n",
    "\n",
    "def update_params(W1, b1, W2, b2, dW1, db1, dW2, db2, alpha):\n",
    "    W1 = W1 - alpha * dW1\n",
    "    b1 = b1 - alpha * db1    \n",
    "    W2 = W2 - alpha * dW2  \n",
    "    b2 = b2 - alpha * db2    \n",
    "    return W1, b1, W2, b2"
   ]
  },
  {
   "cell_type": "code",
   "execution_count": 9,
   "id": "001c8a92",
   "metadata": {},
   "outputs": [],
   "source": [
    "def get_predictions(A2):\n",
    "    return np.argmax(A2, 0)\n",
    "\n",
    "def get_accuracy(predictions, Y):\n",
    "    print(predictions, Y)\n",
    "    return np.sum(predictions == Y) / Y.size\n",
    "\n",
    "def gradient_descent(X, Y, alpha, iterations):\n",
    "    W1, b1, W2, b2 = init_params()\n",
    "    for i in range(iterations):\n",
    "        Z1, A1, Z2, A2 = forward_prop(W1, b1, W2, b2, X)\n",
    "        dW1, db1, dW2, db2 = backward_prop(Z1, A1, Z2, A2, W1, W2, X, Y)\n",
    "        W1, b1, W2, b2 = update_params(W1, b1, W2, b2, dW1, db1, dW2, db2, alpha)\n",
    "        if i % 10 == 0:\n",
    "            print(\"Iteration: \", i)\n",
    "            predictions = get_predictions(A2)\n",
    "            print(get_accuracy(predictions, Y))\n",
    "    return W1, b1, W2, b2"
   ]
  },
  {
   "cell_type": "code",
   "execution_count": 10,
   "id": "661d437c",
   "metadata": {},
   "outputs": [
    {
     "name": "stdout",
     "output_type": "stream",
     "text": [
      "Iteration:  0\n",
      "[9 9 9 ... 2 2 5] [4 0 8 ... 7 7 3]\n",
      "0.07409756097560975\n",
      "Iteration:  10\n",
      "[2 2 8 ... 9 4 1] [4 0 8 ... 7 7 3]\n",
      "0.14921951219512194\n",
      "Iteration:  20\n",
      "[6 2 8 ... 9 9 1] [4 0 8 ... 7 7 3]\n",
      "0.20219512195121953\n",
      "Iteration:  30\n",
      "[2 0 8 ... 9 9 1] [4 0 8 ... 7 7 3]\n",
      "0.2434390243902439\n",
      "Iteration:  40\n",
      "[2 0 8 ... 9 9 1] [4 0 8 ... 7 7 3]\n",
      "0.28102439024390247\n",
      "Iteration:  50\n",
      "[2 0 3 ... 9 9 1] [4 0 8 ... 7 7 3]\n",
      "0.3390487804878049\n",
      "Iteration:  60\n",
      "[2 0 3 ... 9 7 8] [4 0 8 ... 7 7 3]\n",
      "0.4035609756097561\n",
      "Iteration:  70\n",
      "[2 0 3 ... 9 7 8] [4 0 8 ... 7 7 3]\n",
      "0.46270731707317075\n",
      "Iteration:  80\n",
      "[2 0 3 ... 9 7 8] [4 0 8 ... 7 7 3]\n",
      "0.5098780487804878\n",
      "Iteration:  90\n",
      "[2 0 3 ... 9 7 5] [4 0 8 ... 7 7 3]\n",
      "0.5468536585365854\n",
      "Iteration:  100\n",
      "[2 0 3 ... 7 7 5] [4 0 8 ... 7 7 3]\n",
      "0.578\n",
      "Iteration:  110\n",
      "[2 0 3 ... 7 7 5] [4 0 8 ... 7 7 3]\n",
      "0.6029024390243902\n",
      "Iteration:  120\n",
      "[2 0 3 ... 7 7 5] [4 0 8 ... 7 7 3]\n",
      "0.6240487804878049\n",
      "Iteration:  130\n",
      "[2 0 3 ... 7 7 3] [4 0 8 ... 7 7 3]\n",
      "0.6419512195121951\n",
      "Iteration:  140\n",
      "[2 0 3 ... 7 7 3] [4 0 8 ... 7 7 3]\n",
      "0.6564146341463415\n",
      "Iteration:  150\n",
      "[2 0 3 ... 7 7 3] [4 0 8 ... 7 7 3]\n",
      "0.6702439024390244\n",
      "Iteration:  160\n",
      "[2 0 3 ... 7 7 3] [4 0 8 ... 7 7 3]\n",
      "0.6815121951219513\n",
      "Iteration:  170\n",
      "[2 0 3 ... 7 7 3] [4 0 8 ... 7 7 3]\n",
      "0.6917560975609756\n",
      "Iteration:  180\n",
      "[2 0 3 ... 7 7 3] [4 0 8 ... 7 7 3]\n",
      "0.6993658536585365\n",
      "Iteration:  190\n",
      "[2 0 3 ... 7 7 3] [4 0 8 ... 7 7 3]\n",
      "0.7068048780487804\n",
      "Iteration:  200\n",
      "[2 0 3 ... 7 7 3] [4 0 8 ... 7 7 3]\n",
      "0.7148048780487805\n",
      "Iteration:  210\n",
      "[2 0 3 ... 7 7 3] [4 0 8 ... 7 7 3]\n",
      "0.7217317073170731\n",
      "Iteration:  220\n",
      "[2 0 3 ... 7 7 3] [4 0 8 ... 7 7 3]\n",
      "0.7277317073170732\n",
      "Iteration:  230\n",
      "[2 0 3 ... 7 7 3] [4 0 8 ... 7 7 3]\n",
      "0.7336341463414634\n",
      "Iteration:  240\n",
      "[2 0 3 ... 7 7 3] [4 0 8 ... 7 7 3]\n",
      "0.7388780487804878\n",
      "Iteration:  250\n",
      "[2 0 3 ... 7 7 3] [4 0 8 ... 7 7 3]\n",
      "0.7445365853658537\n",
      "Iteration:  260\n",
      "[2 0 3 ... 7 7 3] [4 0 8 ... 7 7 3]\n",
      "0.7491707317073171\n",
      "Iteration:  270\n",
      "[2 0 3 ... 7 7 3] [4 0 8 ... 7 7 3]\n",
      "0.7533170731707317\n",
      "Iteration:  280\n",
      "[2 0 3 ... 7 7 3] [4 0 8 ... 7 7 3]\n",
      "0.7583170731707317\n",
      "Iteration:  290\n",
      "[2 0 3 ... 7 7 3] [4 0 8 ... 7 7 3]\n",
      "0.762219512195122\n",
      "Iteration:  300\n",
      "[2 0 3 ... 7 7 3] [4 0 8 ... 7 7 3]\n",
      "0.766609756097561\n",
      "Iteration:  310\n",
      "[2 0 3 ... 7 7 3] [4 0 8 ... 7 7 3]\n",
      "0.7703414634146342\n",
      "Iteration:  320\n",
      "[2 0 3 ... 7 7 3] [4 0 8 ... 7 7 3]\n",
      "0.774219512195122\n",
      "Iteration:  330\n",
      "[2 0 3 ... 7 7 3] [4 0 8 ... 7 7 3]\n",
      "0.7780975609756098\n",
      "Iteration:  340\n",
      "[2 0 8 ... 7 7 3] [4 0 8 ... 7 7 3]\n",
      "0.7817073170731708\n",
      "Iteration:  350\n",
      "[2 0 8 ... 7 7 3] [4 0 8 ... 7 7 3]\n",
      "0.7847804878048781\n",
      "Iteration:  360\n",
      "[2 0 8 ... 7 7 3] [4 0 8 ... 7 7 3]\n",
      "0.7881707317073171\n",
      "Iteration:  370\n",
      "[2 0 8 ... 7 7 3] [4 0 8 ... 7 7 3]\n",
      "0.790829268292683\n",
      "Iteration:  380\n",
      "[2 0 8 ... 7 7 3] [4 0 8 ... 7 7 3]\n",
      "0.7938048780487805\n",
      "Iteration:  390\n",
      "[2 0 8 ... 7 7 3] [4 0 8 ... 7 7 3]\n",
      "0.7967560975609757\n",
      "Iteration:  400\n",
      "[2 0 8 ... 7 7 3] [4 0 8 ... 7 7 3]\n",
      "0.799609756097561\n",
      "Iteration:  410\n",
      "[2 0 8 ... 7 7 3] [4 0 8 ... 7 7 3]\n",
      "0.8018780487804879\n",
      "Iteration:  420\n",
      "[2 0 8 ... 7 7 3] [4 0 8 ... 7 7 3]\n",
      "0.805\n",
      "Iteration:  430\n",
      "[2 0 8 ... 7 7 3] [4 0 8 ... 7 7 3]\n",
      "0.8077804878048781\n",
      "Iteration:  440\n",
      "[2 0 8 ... 7 7 3] [4 0 8 ... 7 7 3]\n",
      "0.8094878048780488\n",
      "Iteration:  450\n",
      "[2 0 8 ... 7 7 3] [4 0 8 ... 7 7 3]\n",
      "0.8113414634146342\n",
      "Iteration:  460\n",
      "[2 0 8 ... 7 7 3] [4 0 8 ... 7 7 3]\n",
      "0.8133170731707317\n",
      "Iteration:  470\n",
      "[2 0 8 ... 7 7 3] [4 0 8 ... 7 7 3]\n",
      "0.8149024390243902\n",
      "Iteration:  480\n",
      "[2 0 8 ... 7 7 3] [4 0 8 ... 7 7 3]\n",
      "0.8167317073170731\n",
      "Iteration:  490\n",
      "[2 0 8 ... 7 7 3] [4 0 8 ... 7 7 3]\n",
      "0.8182439024390243\n"
     ]
    }
   ],
   "source": [
    "W1, b1, W2, b2 = gradient_descent(X_train, Y_train, 0.1, 500)"
   ]
  },
  {
   "cell_type": "code",
   "execution_count": 11,
   "id": "3cf88101",
   "metadata": {},
   "outputs": [],
   "source": [
    "def make_predictions(X, W1, b1, W2, b2):\n",
    "    _, _, _, A2 = forward_prop(W1, b1, W2, b2, X)\n",
    "    predictions = get_predictions(A2)\n",
    "    return predictions\n",
    "\n",
    "def test_prediction(index, W1, b1, W2, b2):\n",
    "    current_image = X_train[:, index, None]\n",
    "    prediction = make_predictions(X_train[:, index, None], W1, b1, W2, b2)\n",
    "    label = Y_train[index]\n",
    "    print(\"Prediction: \", prediction)\n",
    "    print(\"Label: \", label)\n",
    "    \n",
    "    current_image = current_image.reshape((28, 28)) * 255\n",
    "    plt.gray()\n",
    "    plt.imshow(current_image, interpolation='nearest')\n",
    "    plt.show()"
   ]
  },
  {
   "cell_type": "code",
   "execution_count": 12,
   "id": "583a3023",
   "metadata": {},
   "outputs": [
    {
     "name": "stdout",
     "output_type": "stream",
     "text": [
      "Prediction:  [2]\n",
      "Label:  4\n"
     ]
    },
    {
     "data": {
      "image/png": "[encoded data removed]",
      "text/plain": [
       "<Figure size 640x480 with 1 Axes>"
      ]
     },
     "metadata": {},
     "output_type": "display_data"
    },
    {
     "name": "stdout",
     "output_type": "stream",
     "text": [
      "Prediction:  [0]\n",
      "Label:  0\n"
     ]
    },
    {
     "data": {
      "image/png": "[encoded data removed]",
      "text/plain": [
       "<Figure size 640x480 with 1 Axes>"
      ]
     },
     "metadata": {},
     "output_type": "display_data"
    },
    {
     "name": "stdout",
     "output_type": "stream",
     "text": [
      "Prediction:  [8]\n",
      "Label:  8\n"
     ]
    },
    {
     "data": {
      "image/png": "[encoded data removed]",
      "text/plain": [
       "<Figure size 640x480 with 1 Axes>"
      ]
     },
     "metadata": {},
     "output_type": "display_data"
    },
    {
     "name": "stdout",
     "output_type": "stream",
     "text": [
      "Prediction:  [9]\n",
      "Label:  7\n"
     ]
    },
    {
     "data": {
      "image/png": "[encoded data removed]",
      "text/plain": [
       "<Figure size 640x480 with 1 Axes>"
      ]
     },
     "metadata": {},
     "output_type": "display_data"
    }
   ],
   "source": [
    "test_prediction(0, W1, b1, W2, b2)\n",
    "test_prediction(1, W1, b1, W2, b2)\n",
    "test_prediction(2, W1, b1, W2, b2)\n",
    "test_prediction(3, W1, b1, W2, b2)"
   ]
  },
  {
   "cell_type": "code",
   "execution_count": null,
   "id": "71061fa3",
   "metadata": {},
   "outputs": [],
   "source": []
  }
 ],
 "metadata": {
  "kernelspec": {
   "display_name": "Python 3 (ipykernel)",
   "language": "python",
   "name": "python3"
  },
  "language_info": {
   "codemirror_mode": {
    "name": "ipython",
    "version": 3
   },
   "file_extension": ".py",
   "mimetype": "text/x-python",
   "name": "python",
   "nbconvert_exporter": "python",
   "pygments_lexer": "ipython3",
   "version": "3.9.13"
  }
 },
 "nbformat": 4,
 "nbformat_minor": 5
}
